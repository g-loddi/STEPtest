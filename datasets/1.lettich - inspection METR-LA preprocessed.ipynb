{
 "cells": [
  {
   "cell_type": "code",
   "execution_count": null,
   "id": "df6ff57d-5e0c-4138-b405-32db9653f07c",
   "metadata": {},
   "outputs": [],
   "source": [
    "import pandas as pd\n",
    "import numpy as np"
   ]
  },
  {
   "cell_type": "markdown",
   "id": "71242d60-bf59-422a-bbf8-37326ade6e43",
   "metadata": {},
   "source": [
    "### Exploring preprocessed data"
   ]
  },
  {
   "cell_type": "code",
   "execution_count": null,
   "id": "7be3d758-9573-4bb6-a2bb-948e8ed41c7d",
   "metadata": {},
   "outputs": [],
   "source": [
    "path_data = \"./METR-LA/data_in12_out12.pkl\"\n",
    "data = pd.read_pickle(path_data)\n",
    "\n",
    "# In data['processed_data'] abbiamo un array 3D in cui il secondo elemento di ogni vettore rappresenta l'intero in [0,6]\n",
    "# associato al giorno riferito, \n",
    "display(data['processed_data'].shape)"
   ]
  },
  {
   "cell_type": "code",
   "execution_count": null,
   "id": "0558f5e0-b256-440f-8140-76f6ee4df529",
   "metadata": {},
   "outputs": [],
   "source": [
    "# 1a dim: valori rilevati dai sensori.\n",
    "display(np.unique(data['processed_data'][:,:,0]))\n",
    "display(data['processed_data'][:,:,0].shape)"
   ]
  },
  {
   "cell_type": "code",
   "execution_count": null,
   "id": "c8295d43-1959-4bf0-a6d1-eddb0ba6d44c",
   "metadata": {},
   "outputs": [],
   "source": [
    "# 2a dim: time of day relativi dentro ogni giorno, normalizzati.\n",
    "display(np.unique(data['processed_data'][:,:,1]))\n",
    "display(data['processed_data'][:,:,1].shape)"
   ]
  },
  {
   "cell_type": "code",
   "execution_count": null,
   "id": "e511027f-924e-4cad-9430-2b45a7ba5b24",
   "metadata": {},
   "outputs": [],
   "source": [
    "# 3a dim: indici dei 7 giorni della settimana.\n",
    "display(np.unique(data['processed_data'][:,:,2]))\n",
    "display(data['processed_data'][:,:,2].shape)"
   ]
  },
  {
   "cell_type": "markdown",
   "id": "1908af02-fc7f-4de1-996e-6eff1d0251bc",
   "metadata": {},
   "source": []
  },
  {
   "cell_type": "code",
   "execution_count": null,
   "id": "976f19d9-f2de-43f1-a1d6-bb3bcc2eeb63",
   "metadata": {},
   "outputs": [],
   "source": [
    "path_data = \"./METR-LA/data_in2016_out12.pkl\"\n",
    "data2 = pd.read_pickle(path_data)\n",
    "\n",
    "# In data['processed_data'] abbiamo un array 3D in cui il secondo elemento di ogni vettore rappresenta l'intero in [0,6]\n",
    "# associato al giorno riferito, \n",
    "display(data2['processed_data'].shape)"
   ]
  },
  {
   "cell_type": "code",
   "execution_count": null,
   "id": "552acb07-f83f-4186-b904-a65da04c46b4",
   "metadata": {},
   "outputs": [],
   "source": [
    "# 1a dim: valori rilevati dai sensori.\n",
    "display(np.unique(data2['processed_data'][:,:,0]))\n",
    "display(data2['processed_data'][:,:,0].shape)"
   ]
  },
  {
   "cell_type": "code",
   "execution_count": null,
   "id": "abb8a35f-4312-44f9-a6f1-243d50dc3872",
   "metadata": {},
   "outputs": [],
   "source": [
    "# 2a dim: time of day relativi dentro ogni giorno, normalizzati.\n",
    "display(np.unique(data2['processed_data'][:,:,1]))\n",
    "display(data2['processed_data'][:,:,1].shape)"
   ]
  },
  {
   "cell_type": "code",
   "execution_count": null,
   "id": "4b82ed1c-a6df-4c5e-8b74-e3827ea243ff",
   "metadata": {},
   "outputs": [],
   "source": [
    "np.array_equal(data['processed_data'], data2['processed_data'])"
   ]
  },
  {
   "cell_type": "markdown",
   "id": "32da4aae-29db-4133-8ebb-5f5e3d5dce4a",
   "metadata": {},
   "source": [
    "### Exploring preprocessed indexes"
   ]
  },
  {
   "cell_type": "code",
   "execution_count": null,
   "id": "0e655a62-2b87-4127-aeb1-07ff4a5b72db",
   "metadata": {},
   "outputs": [],
   "source": [
    "path_data = \"./METR-LA/index_in2016_out12.pkl\"\n",
    "index = pd.read_pickle(path_data)\n",
    "display(index)"
   ]
  },
  {
   "cell_type": "code",
   "execution_count": null,
   "id": "2f31f2a1-0002-4d1d-bfe0-7da290a5a6c3",
   "metadata": {},
   "outputs": [],
   "source": []
  },
  {
   "cell_type": "markdown",
   "id": "b0cb94b5-41d4-457e-a34a-0c74fa2b2aa7",
   "metadata": {},
   "source": [
    "### Exploring scalers computed during preprocessing"
   ]
  },
  {
   "cell_type": "code",
   "execution_count": null,
   "id": "cd9c0beb-a667-4155-b913-3c9cbbe7f173",
   "metadata": {},
   "outputs": [],
   "source": [
    "path_data = \"./METR-LA/scaler_in2016_out12.pkl\"\n",
    "scaler = pd.read_pickle(path_data)\n",
    "display(scaler)"
   ]
  }
 ],
 "metadata": {
  "kernelspec": {
   "display_name": "Python 3 (ipykernel)",
   "language": "python",
   "name": "python3"
  },
  "language_info": {
   "codemirror_mode": {
    "name": "ipython",
    "version": 3
   },
   "file_extension": ".py",
   "mimetype": "text/x-python",
   "name": "python",
   "nbconvert_exporter": "python",
   "pygments_lexer": "ipython3",
   "version": "3.12.4"
  }
 },
 "nbformat": 4,
 "nbformat_minor": 5
}
