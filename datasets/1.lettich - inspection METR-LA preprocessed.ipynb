{
 "cells": [
  {
   "cell_type": "code",
   "execution_count": null,
   "id": "df6ff57d-5e0c-4138-b405-32db9653f07c",
   "metadata": {},
   "outputs": [],
   "source": [
    "import pandas as pd\n",
    "import numpy as np"
   ]
  },
  {
   "cell_type": "markdown",
   "id": "71242d60-bf59-422a-bbf8-37326ade6e43",
   "metadata": {},
   "source": [
    "### Exploring preprocessed data\n",
    "\n",
    "We start with \"./METR-LA/data_in12_out12.pkl\". Note that the data part is the same when considering, e.g., \"./METR-LA/data_in2016_out12.pkl\"; what changes are the indexes, which is the actual partitioning of the time-series in windows of given sizes."
   ]
  },
  {
   "cell_type": "code",
   "execution_count": null,
   "id": "7be3d758-9573-4bb6-a2bb-948e8ed41c7d",
   "metadata": {},
   "outputs": [],
   "source": [
    "path_data = \"./METR-LA/data_in12_out12.pkl\"\n",
    "data = pd.read_pickle(path_data)\n",
    "\n",
    "# In data['processed_data'] we have a 3D array where the last dimension contains the 3 features associated with\n",
    "# each time step of a time series. The first feature is the detected speed, the second one\n",
    "display(data.keys())\n",
    "display(data['processed_data'].shape)"
   ]
  },
  {
   "cell_type": "code",
   "execution_count": null,
   "id": "0558f5e0-b256-440f-8140-76f6ee4df529",
   "metadata": {},
   "outputs": [],
   "source": [
    "# Shape of the processed data: (num timesteps, num_cells, num features)\n",
    "display(data['processed_data'].shape)\n",
    "\n",
    "# 1st feature: (normalized) values detected from sensors.\n",
    "display(data['processed_data'][:,:,0])\n",
    "# 2nd feature: time of day, normalized in [0,1].\n",
    "display(data['processed_data'][:,:,1])\n",
    "# 3rd feature: day of the week (in [0,6]).\n",
    "display(data['processed_data'][:,:,2])"
   ]
  },
  {
   "cell_type": "markdown",
   "id": "73e65561-029d-4052-8223-a2209049dc0a",
   "metadata": {},
   "source": [
    "### Exploring preprocessed indexes\n",
    "\n",
    "This is where the differences between inXXX_outYYY come out.\n",
    "\n",
    "An index pickle contains a dictionary. This dictionary contains a set of pairs of windows (examples), each expressed as a triple (x,y,z).\n",
    "(x,y) represents the window in the past, while (y,z) represents the future window to predict.\n",
    "\n",
    "The windows (examples) are partitioned into train (70%), validation (10%), and test (20%). The partitioning is done on the time axis."
   ]
  },
  {
   "cell_type": "code",
   "execution_count": null,
   "id": "5069d5f6-15fd-4bce-860a-ffbae2ccd0aa",
   "metadata": {},
   "outputs": [],
   "source": [
    "path_index = \"./METR-LA/index_in12_out12.pkl\"\n",
    "index = pd.read_pickle(path_index)\n",
    "display(index.keys())\n",
    "\n",
    "display(len(index['train']))\n",
    "display(len(index['valid']))\n",
    "display(len(index['test']))\n",
    "\n",
    "display(index['test'])"
   ]
  },
  {
   "cell_type": "markdown",
   "id": "b0cb94b5-41d4-457e-a34a-0c74fa2b2aa7",
   "metadata": {},
   "source": [
    "### Exploring scalers computed during the preprocessing step.\n",
    "\n",
    "These are the scalers computed to normalize (standard normalization) the detected speeds."
   ]
  },
  {
   "cell_type": "code",
   "execution_count": null,
   "id": "cd9c0beb-a667-4155-b913-3c9cbbe7f173",
   "metadata": {},
   "outputs": [],
   "source": [
    "path_data = \"./METR-LA/scaler_in2016_out12.pkl\"\n",
    "scaler = pd.read_pickle(path_data)\n",
    "display(scaler)"
   ]
  }
 ],
 "metadata": {
  "kernelspec": {
   "display_name": "Python 3 (ipykernel)",
   "language": "python",
   "name": "python3"
  },
  "language_info": {
   "codemirror_mode": {
    "name": "ipython",
    "version": 3
   },
   "file_extension": ".py",
   "mimetype": "text/x-python",
   "name": "python",
   "nbconvert_exporter": "python",
   "pygments_lexer": "ipython3",
   "version": "3.12.4"
  }
 },
 "nbformat": 4,
 "nbformat_minor": 5
}
