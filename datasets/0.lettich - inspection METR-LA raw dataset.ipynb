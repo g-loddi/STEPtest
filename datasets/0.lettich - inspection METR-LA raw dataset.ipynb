{
 "cells": [
  {
   "cell_type": "code",
   "execution_count": null,
   "id": "08a5f4b7-0930-4e09-b5ee-3a2425a8ba98",
   "metadata": {},
   "outputs": [],
   "source": [
    "import h5py\n",
    "import pandas as pd\n",
    "import numpy as np"
   ]
  },
  {
   "cell_type": "markdown",
   "id": "82e1ed11-b92d-49f9-9d22-eb7baea71b8c",
   "metadata": {},
   "source": [
    "We read the original HDF METR-LA dataset the way the authors did (with pandas).\n",
    "\n",
    "This creates a dataframe where the index contains the timestamps, the columns the IDs of the cells, and\n",
    "the values represent the detected speed.\n",
    "\n",
    "NOTE: the authors subsequently manipulated the dataframe with numpy to create the preprocessed version of the original data."
   ]
  },
  {
   "cell_type": "code",
   "execution_count": null,
   "id": "9a24e76c-1318-4ea9-ada7-76829683e012",
   "metadata": {},
   "outputs": [],
   "source": [
    "# Here we read the original METR-LA dataset the way the authors did (with pandas)\n",
    "# NOTE: the authors subsequently manipulated the dataframe with numpy to preprocess the values in it.\n",
    "test = pd.read_hdf('./raw_data/METR-LA/METR-LA.h5')\n",
    "display(test)\n",
    "display(test.columns.values)\n",
    "display(test.index.values)"
   ]
  },
  {
   "cell_type": "code",
   "execution_count": null,
   "id": "897b2925-bac1-4f03-a8e7-a81bfc49db81",
   "metadata": {},
   "outputs": [],
   "source": [
    "# The line below shows how the feature time of the day is created. test.index.values.astype(\"datetime64[D]\") truncates\n",
    "# the timestamps at day precision, so the difference returns timestamps representing the time elapsed within single days.\n",
    "# Then, the ratio with \"np.timedelta64(1, \"D\")\" serves to normalize these values in [0,1].\n",
    "\n",
    "tod = (test.index.values - test.index.values.astype(\"datetime64[D]\")) / np.timedelta64(1, \"D\")"
   ]
  }
 ],
 "metadata": {
  "kernelspec": {
   "display_name": "Python 3 (ipykernel)",
   "language": "python",
   "name": "python3"
  },
  "language_info": {
   "codemirror_mode": {
    "name": "ipython",
    "version": 3
   },
   "file_extension": ".py",
   "mimetype": "text/x-python",
   "name": "python",
   "nbconvert_exporter": "python",
   "pygments_lexer": "ipython3",
   "version": "3.12.4"
  }
 },
 "nbformat": 4,
 "nbformat_minor": 5
}
